{
 "cells": [
  {
   "cell_type": "markdown",
   "metadata": {},
   "source": []
  },
  {
   "cell_type": "code",
   "execution_count": null,
   "metadata": {
    "collapsed": true
   },
   "outputs": [],
   "source": [
    "import pandas as pd\n",
    "from sklearn.utils import shuffle\n",
    "from pymorphy2 import MorphAnalyzer\n",
    "import re"
   ]
  },
  {
   "cell_type": "code",
   "execution_count": null,
   "metadata": {},
   "outputs": [],
   "source": [
    "positive_tweets = pd.read_csv('data/positive.csv', sep = ';', header = None)\n",
    "negative_tweets = pd.read_csv('data/negative.csv', sep = ';', header = None)\n",
    "dataset = pd.concat([positive_tweets, negative_tweets])[[3, 4]]\n",
    "dataset.columns = ['text', 'label']"
   ]
  },
  {
   "cell_type": "code",
   "execution_count": null,
   "metadata": {},
   "outputs": [],
   "source": [
    "dataset = dataset.sample(frac = 1, random_state = 42).reset_index(drop = True)\n",
    "dataset.head(5)"
   ]
  },
  {
   "cell_type": "code",
   "execution_count": null,
   "metadata": {
    "collapsed": true
   },
   "outputs": [],
   "source": [
    "def clean(txt, use_lemmatization = False):\n",
    "    txt = txt.lower()\n",
    "    txt = re.sub(r'\\s+', ' ', txt)\n",
    "    letters = 'абвгдеёжзийклмнопрстуфхцчшщъыьэюя '\n",
    "    analyzer = MorphAnalyzer() if use_lemmatization else None\n",
    "    result = ''\n",
    "    for letter in txt:\n",
    "        if letter in letters:\n",
    "            result += letter\n",
    "    if use_lemmatization:\n",
    "        temp = []\n",
    "        for word in result.split():\n",
    "            temp.append(analyzer.parse(word)[0].normal_form)\n",
    "        result = ' '.join(temp)\n",
    "    return result"
   ]
  },
  {
   "cell_type": "code",
   "execution_count": null,
   "metadata": {},
   "outputs": [],
   "source": [
    "dataset_with_lemmatization = dataset['text'].apply(lambda x : clean(x, use_lemmatization = True))"
   ]
  },
  {
   "cell_type": "code",
   "execution_count": null,
   "metadata": {
    "collapsed": true
   },
   "outputs": [],
   "source": [
    "dataset_without_lemmatization = dataset['text'].apply(lambda x : clean(x, use_lemmatization = False))"
   ]
  },
  {
   "cell_type": "code",
   "execution_count": null,
   "metadata": {
    "collapsed": true
   },
   "outputs": [],
   "source": [
    "dataset_with_lemmatization.to_csv(\"data/data_with_lemmatization.csv\")\n",
    "dataset_without_lemmatization.to_csv(\"data/data_without_lemmatization.csv\")"
   ]
  },
  {
   "cell_type": "code",
   "execution_count": null,
   "metadata": {},
   "outputs": [],
   "source": [
    "!pip install progressbar2"
   ]
  },
  {
   "cell_type": "code",
   "execution_count": null,
   "metadata": {},
   "outputs": [],
   "source": [
    "import progressbar\n",
    "dataset_without_lemmatization = dataset['text']\n",
    "bar = progressbar.ProgressBar(max_value=len(dataset['text']))\n",
    "for i in range(len(dataset['text'])):\n",
    "    dataset_without_lemmatization[i] = clean(dataset_without_lemmatization[i], use_lemmatization = False)\n",
    "    bar.update(i)"
   ]
  },
  {
   "cell_type": "code",
   "execution_count": null,
   "metadata": {
    "collapsed": true
   },
   "outputs": [],
   "source": []
  }
 ],
 "metadata": {
  "kernelspec": {
   "display_name": "Python 3",
   "language": "python",
   "name": "python3"
  },
  "language_info": {
   "codemirror_mode": {
    "name": "ipython",
    "version": 3
   },
   "file_extension": ".py",
   "mimetype": "text/x-python",
   "name": "python",
   "nbconvert_exporter": "python",
   "pygments_lexer": "ipython3",
   "version": "3.6.2"
  }
 },
 "nbformat": 4,
 "nbformat_minor": 2
}
